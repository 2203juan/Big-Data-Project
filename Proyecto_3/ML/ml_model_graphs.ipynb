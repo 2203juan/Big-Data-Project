{
 "cells": [
  {
   "cell_type": "code",
   "execution_count": 30,
   "metadata": {},
   "outputs": [
    {
     "name": "stdout",
     "output_type": "stream",
     "text": [
      "root\n",
      " |-- month: string (nullable = true)\n",
      " |-- day: string (nullable = true)\n",
      " |-- order: string (nullable = true)\n",
      " |-- country: string (nullable = true)\n",
      " |-- page_1: string (nullable = true)\n",
      " |-- colour: string (nullable = true)\n",
      " |-- location: string (nullable = true)\n",
      " |-- model_photography: string (nullable = true)\n",
      " |-- price: string (nullable = true)\n",
      " |-- price_2: string (nullable = true)\n",
      " |-- page: string (nullable = true)\n",
      " |-- clicks: string (nullable = true)\n",
      "\n",
      "\n",
      "Modelo Random Forest Regressor\n",
      "R Squared (R2) on test data = 0.749882\n",
      "Root Mean Squared Error (RMSE) on test data = 391.299\n"
     ]
    }
   ],
   "source": [
    "from pyspark.ml.evaluation import RegressionEvaluator\n",
    "from pyspark.ml.feature import VectorAssembler\n",
    "from pyspark.sql.types import IntegerType,DoubleType\n",
    "from pyspark.sql import SparkSession\n",
    "from pyspark import SparkConf, SparkContext\n",
    "from pyspark.mllib.evaluation import RegressionMetrics\n",
    "from pyspark.ml.regression import RandomForestRegressor\n",
    "import matplotlib.pyplot as plt\n",
    "import numpy as np\n",
    "\n",
    "\n",
    "# Se muestra el esquema del dataset\n",
    "spark = SparkSession.builder.appName('ml-eshop').getOrCreate()\n",
    "df = spark.read.format(\"csv\").option(\"delimiter\", \",\").option(\"header\",True).load(\"normal.csv\")\n",
    "df.printSchema()\n",
    "\n",
    "\n",
    "# castear todos los numeros cargados como string a int\n",
    "for col in df.columns:\n",
    "    df = df.withColumn(col,df[col].cast(IntegerType()))\n",
    "\n",
    "\n",
    "# Se agrupa el dataset de acuerdo a la variable objetivo\n",
    "labeled = df.groupby(\"clicks\").count()\n",
    "#labeled.show()\n",
    "\n",
    "\n",
    "# Se guarda en la lista names los nombres de las columnas exceptuando la variable objetivo\n",
    "names = list()\n",
    "for i in df.columns:\n",
    "    if i!=\"clicks\":\n",
    "        names.append(i)\n",
    "\n",
    "# Se convierte a vectorAssembler para poder usar los modelos de Machine Learning\n",
    "\n",
    "vectorAssembler = VectorAssembler(inputCols = names, outputCol = 'features')\n",
    "vhouse_df = vectorAssembler.transform(df)\n",
    "vhouse_df = vhouse_df.select(['features', 'clicks'])\n",
    "\n",
    "# Se parte el conjunto de datos en entrenamiento  = 70% y prueba = 30%\n",
    "splits = vhouse_df.randomSplit([0.7, 0.3])\n",
    "\n",
    "\n",
    "\n",
    "# se guarda cada subconjunto en variables diferentes\n",
    "train_df = splits[0] \n",
    "test_df = splits[1] \n",
    "#train_df.show()\n",
    "#test_df.show()\n",
    "\n",
    "\n",
    "# Modelos de Regresionn\n",
    "# Random Forest Regressor\n",
    "\n",
    "# se crea y entrena el modelo\n",
    "rf = RandomForestRegressor(labelCol=\"clicks\", maxBins=217, seed = 2)\n",
    "model = rf.fit(train_df)\n",
    "\n",
    "rf_prediction = model.transform(test_df)\n",
    "test_prediction_rf = rf_prediction.select(\"prediction\",\"clicks\")\n",
    "\n",
    "evaluator = RegressionEvaluator(labelCol=\"clicks\")\n",
    "\n",
    "print(\"\\nModelo Random Forest Regressor\")\n",
    "print(\"R Squared (R2) on test data = %g\" % evaluator.evaluate(test_prediction_rf, {evaluator.metricName: \"r2\"}))\n",
    "print(\"Root Mean Squared Error (RMSE) on test data = %g\" % evaluator.evaluate(test_prediction_rf, {evaluator.metricName: \"rmse\"}))\n",
    "imp = model.featureImportances"
   ]
  },
  {
   "cell_type": "code",
   "execution_count": 31,
   "metadata": {},
   "outputs": [],
   "source": [
    "importances = imp.toArray()\n",
    "unsorted_list = [(importance, name) for name, importance in \n",
    "                  zip(names, importances)]\n",
    "sorted_list = sorted(unsorted_list, reverse=True)\n",
    "\n",
    "features_sorted = []\n",
    "importance_sorted = []\n",
    "\n",
    "for i in sorted_list:\n",
    "    features_sorted += [i[1]]\n",
    "    importance_sorted += [i[0]]"
   ]
  },
  {
   "cell_type": "code",
   "execution_count": 32,
   "metadata": {},
   "outputs": [
    {
     "data": {
      "image/png": "[encoded data removed]",
      "text/plain": [
       "<Figure size 576x360 with 1 Axes>"
      ]
     },
     "metadata": {
      "needs_background": "light"
     },
     "output_type": "display_data"
    }
   ],
   "source": [
    "fig, ax = plt.subplots(figsize=(8,5))\n",
    "y_pos = np.arange(len(importance_sorted))\n",
    "\n",
    "ax.barh(y_pos, importance_sorted, align='center')\n",
    "ax.set_yticks(y_pos)\n",
    "ax.set_yticklabels(features_sorted)\n",
    "ax.invert_yaxis()  # labels read top-to-bottom\n",
    "ax.set_xlabel('Feature Importance')\n",
    "ax.set_title('Feature Importance Original Dataset')\n",
    "\n",
    "plt.savefig('importance_barh_normal.png', dpi=100)\n",
    "plt.show()"
   ]
  },
  {
   "cell_type": "code",
   "execution_count": 33,
   "metadata": {},
   "outputs": [
    {
     "name": "stdout",
     "output_type": "stream",
     "text": [
      "root\n",
      " |-- month: string (nullable = true)\n",
      " |-- day: string (nullable = true)\n",
      " |-- order: string (nullable = true)\n",
      " |-- country: string (nullable = true)\n",
      " |-- page_1: string (nullable = true)\n",
      " |-- colour: string (nullable = true)\n",
      " |-- location: string (nullable = true)\n",
      " |-- model_photography: string (nullable = true)\n",
      " |-- price: string (nullable = true)\n",
      " |-- price_2: string (nullable = true)\n",
      " |-- page: string (nullable = true)\n",
      " |-- louvain_comm: string (nullable = true)\n",
      " |-- clustering_coeff: string (nullable = true)\n",
      " |-- betweenness: string (nullable = true)\n",
      " |-- x: string (nullable = true)\n",
      " |-- y: string (nullable = true)\n",
      " |-- z: string (nullable = true)\n",
      " |-- clicks: string (nullable = true)\n",
      "\n",
      "\n",
      "Modelo Random Forest Regressor\n",
      "R Squared (R2) on test data = 0.962963\n",
      "Root Mean Squared Error (RMSE) on test data = 151.124\n"
     ]
    }
   ],
   "source": [
    "# Se muestra el esquema del dataset\n",
    "spark = SparkSession.builder.appName('ml-eshop').getOrCreate()\n",
    "df = spark.read.format(\"csv\").option(\"delimiter\", \",\").option(\"header\",True).load(\"graphed.csv\")\n",
    "df.printSchema()\n",
    "\n",
    "\n",
    "# castear todos los numeros cargados como string a int\n",
    "for col in df.columns:\n",
    "    df = df.withColumn(col,df[col].cast(IntegerType()))\n",
    "\n",
    "\n",
    "# Se agrupa el dataset de acuerdo a la variable objetivo\n",
    "labeled = df.groupby(\"clicks\").count()\n",
    "#labeled.show()\n",
    "\n",
    "\n",
    "# Se guarda en la lista names los nombres de las columnas exceptuando la variable objetivo\n",
    "names = list()\n",
    "for i in df.columns:\n",
    "    if i!=\"clicks\":\n",
    "        names.append(i)\n",
    "\n",
    "# Se convierte a vectorAssembler para poder usar los modelos de Machine Learning\n",
    "\n",
    "vectorAssembler = VectorAssembler(inputCols = names, outputCol = 'features')\n",
    "vhouse_df = vectorAssembler.transform(df)\n",
    "vhouse_df = vhouse_df.select(['features', 'clicks'])\n",
    "\n",
    "# Se parte el conjunto de datos en entrenamiento  = 70% y prueba = 30%\n",
    "splits = vhouse_df.randomSplit([0.7, 0.3])\n",
    "\n",
    "\n",
    "\n",
    "# se guarda cada subconjunto en variables diferentes\n",
    "train_df = splits[0] \n",
    "test_df = splits[1] \n",
    "#train_df.show()\n",
    "#test_df.show()\n",
    "\n",
    "\n",
    "# Modelos de Regresionn\n",
    "# Random Forest Regressor\n",
    "\n",
    "# se crea y entrena el modelo\n",
    "rf = RandomForestRegressor(labelCol=\"clicks\", maxBins=217, seed = 2)\n",
    "model = rf.fit(train_df)\n",
    "\n",
    "rf_prediction = model.transform(test_df)\n",
    "test_prediction_rf = rf_prediction.select(\"prediction\",\"clicks\")\n",
    "\n",
    "evaluator = RegressionEvaluator(labelCol=\"clicks\")\n",
    "\n",
    "print(\"\\nModelo Random Forest Regressor\")\n",
    "print(\"R Squared (R2) on test data = %g\" % evaluator.evaluate(test_prediction_rf, {evaluator.metricName: \"r2\"}))\n",
    "print(\"Root Mean Squared Error (RMSE) on test data = %g\" % evaluator.evaluate(test_prediction_rf, {evaluator.metricName: \"rmse\"}))\n",
    "imp2 = model.featureImportances"
   ]
  },
  {
   "cell_type": "code",
   "execution_count": 34,
   "metadata": {},
   "outputs": [],
   "source": [
    "importances = imp2.toArray()\n",
    "unsorted_list = [(importance, name) for name, importance in \n",
    "                  zip(names, importances)]\n",
    "sorted_list = sorted(unsorted_list, reverse=True)\n",
    "\n",
    "features_sorted = []\n",
    "importance_sorted = []\n",
    "\n",
    "for i in sorted_list:\n",
    "    features_sorted += [i[1]]\n",
    "    importance_sorted += [i[0]]"
   ]
  },
  {
   "cell_type": "code",
   "execution_count": 35,
   "metadata": {},
   "outputs": [
    {
     "data": {
      "image/png": "[encoded data removed]",
      "text/plain": [
       "<Figure size 576x360 with 1 Axes>"
      ]
     },
     "metadata": {
      "needs_background": "light"
     },
     "output_type": "display_data"
    }
   ],
   "source": [
    "fig, ax = plt.subplots(figsize=(8,5))\n",
    "y_pos = np.arange(len(importance_sorted))\n",
    "\n",
    "ax.barh(y_pos, importance_sorted, align='center')\n",
    "ax.set_yticks(y_pos)\n",
    "ax.set_yticklabels(features_sorted)\n",
    "ax.invert_yaxis()  # labels read top-to-bottom\n",
    "ax.set_xlabel('Feature Importance')\n",
    "ax.set_title('Feature Importance Graphed Dataset')\n",
    "\n",
    "plt.savefig('importance_barh_graphed.png', dpi=100)\n",
    "plt.show()"
   ]
  },
  {
   "cell_type": "code",
   "execution_count": null,
   "metadata": {},
   "outputs": [],
   "source": []
  }
 ],
 "metadata": {
  "kernelspec": {
   "display_name": "Python 3",
   "language": "python",
   "name": "python3"
  },
  "language_info": {
   "codemirror_mode": {
    "name": "ipython",
    "version": 3
   },
   "file_extension": ".py",
   "mimetype": "text/x-python",
   "name": "python",
   "nbconvert_exporter": "python",
   "pygments_lexer": "ipython3",
   "version": "3.8.3"
  }
 },
 "nbformat": 4,
 "nbformat_minor": 4
}
